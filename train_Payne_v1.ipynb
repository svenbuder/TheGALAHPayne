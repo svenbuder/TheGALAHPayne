{
 "cells": [
  {
   "cell_type": "code",
   "execution_count": 1,
   "metadata": {},
   "outputs": [],
   "source": [
    "from __future__ import absolute_import, division, print_function # Python2 compatibility\n",
    "import numpy as np\n",
    "import matplotlib.pyplot as plt\n",
    "\n",
    "try:\n",
    "    %matplotlib inline\n",
    "    %config InlineBackend.figure_format='retina'\n",
    "except:\n",
    "    pass\n",
    "\n",
    "import numpy as np\n",
    "\n",
    "from The_Payne import utils\n",
    "from The_Payne import spectral_model\n",
    "from The_Payne import fitting\n",
    "from The_Payne import training_v1 as training"
   ]
  },
  {
   "cell_type": "code",
   "execution_count": 2,
   "metadata": {},
   "outputs": [],
   "source": [
    "utils.create_wavelength_array(survey='galah')\n",
    "utils.create_galah_mask()"
   ]
  },
  {
   "cell_type": "code",
   "execution_count": 3,
   "metadata": {},
   "outputs": [],
   "source": [
    "wavelength = utils.load_wavelength_array(survey='galah')\n",
    "mask = utils.load_galah_mask()\n",
    "num_pixel = len(wavelength)\n",
    "ccd = dict()\n",
    "for each_ccd in range(4):\n",
    "    ccd[each_ccd] = (wavelength > 1000*(4+each_ccd)) & (wavelength < 1000*(5+each_ccd))"
   ]
  },
  {
   "cell_type": "code",
   "execution_count": 4,
   "metadata": {},
   "outputs": [],
   "source": [
    "train = False\n",
    "\n",
    "if train == True:\n",
    "    training_labels, training_spectra, validation_labels, validation_spectra = utils.load_training_data(survey='galah')\n",
    "    training_loss, validation_loss = training.neural_net(training_labels, training_spectra,\\\n",
    "                                                     validation_labels, validation_spectra,\\\n",
    "                                                     num_neurons = 300, num_steps=1e3, learning_rate=0.001)\n",
    "else:\n",
    "    tmp = np.load(\"NN_normalized_spectra_191101_small.npz\")\n",
    "    w_array_0 = tmp[\"w_array_0\"]\n",
    "    w_array_1 = tmp[\"w_array_1\"]\n",
    "    w_array_2 = tmp[\"w_array_2\"]\n",
    "    b_array_0 = tmp[\"b_array_0\"]\n",
    "    b_array_1 = tmp[\"b_array_1\"]\n",
    "    b_array_2 = tmp[\"b_array_2\"]\n",
    "    x_min = tmp[\"x_min\"]\n",
    "    x_max = tmp[\"x_max\"]\n",
    "    tmp.close()\n",
    "    NN_coeffs = (w_array_0, w_array_1, w_array_2, b_array_0, b_array_1, b_array_2, x_min, x_max)"
   ]
  },
  {
   "cell_type": "code",
   "execution_count": 5,
   "metadata": {},
   "outputs": [],
   "source": [
    "observed_spectra = np.load('galah_selection_191030.npz')\n",
    "all_sobject_id = observed_spectra['sobject_id']\n",
    "all_labels = observed_spectra['labels']\n",
    "all_flux = observed_spectra['flux']\n",
    "all_flux_error = observed_spectra['flux_error']\n",
    "observed_spectra.close()"
   ]
  },
  {
   "cell_type": "code",
   "execution_count": null,
   "metadata": {},
   "outputs": [
    {
     "name": "stdout",
     "output_type": "stream",
     "text": [
      "0\n",
      "50\n",
      "100\n",
      "150\n",
      "200\n",
      "250\n",
      "300\n",
      "350\n",
      "400\n",
      "450\n",
      "500\n",
      "550\n",
      "600\n",
      "650\n",
      "700\n"
     ]
    }
   ],
   "source": [
    "payne_labels = np.ones(np.shape(all_labels))\n",
    "\n",
    "for each_index in range(len(all_sobject_id)):\n",
    "    # fit the labels\n",
    "    popt, pcov, best_fit_spec = fitting.fit_normalized_spectrum_single_star_model(norm_spec = all_flux[each_index], \n",
    "        spec_err = all_flux_error[each_index], NN_coeffs = NN_coeffs, wavelength=wavelength, mask=mask, p0 = None)\n",
    "\n",
    "    # just a simple progress print\n",
    "    if each_index%50==0:\n",
    "        print(each_index)\n",
    "    \n",
    "    # store optimised parameters in 'payne_labels'\n",
    "    payne_labels[:,each_index] = popt[:-1]"
   ]
  },
  {
   "cell_type": "code",
   "execution_count": null,
   "metadata": {
    "code_folding": [
     0
    ]
   },
   "outputs": [],
   "source": [
    "def fit_and_plot(sobject_id):\n",
    "    each_index = np.where(all_sobject_id == sobject_id)[0]\n",
    "    if len(each_index) != 1:\n",
    "        raise RuntimeError('Could not find sobject_id')\n",
    "    else:\n",
    "        each_index = each_index[0]\n",
    "    labels = all_labels[:,each_index]\n",
    "    spec = all_flux[each_index]\n",
    "    spec_err = all_flux_error[each_index]\n",
    "    \n",
    "    popt, pcov, best_fit_spec = fitting.fit_normalized_spectrum_single_star_model(norm_spec = spec, \n",
    "        spec_err = spec_err, NN_coeffs = NN_coeffs, wavelength=wavelength, mask=mask, p0 = None)\n",
    "\n",
    "    print('GALAH DR3:')\n",
    "    print(labels)\n",
    "    print('The Payne')\n",
    "    print(popt[:-1])\n",
    "    \n",
    "    f, gs = plt.subplots(8,1,figsize=(15,20))\n",
    "    for it in range(4):\n",
    "        ax = gs[2*it]\n",
    "        ax2 = gs[2*it+1]\n",
    "        ax.plot(wavelength[ccd[it]],spec[ccd[it]], 'k', lw=0.5, label = 'GALAH spectrum')\n",
    "        #ax.fill_between(wavelength[ccd[it]],spec[ccd[it]]-spec_err[ccd[it]],spec[ccd[it]]+spec_err[ccd[it]], facecolor='grey', label = 'flux error')\n",
    "        ax.plot(wavelength[ccd[it]],best_fit_spec[ccd[it]], 'r', lw=0.5, label = 'Best-fit model')\n",
    "        ax.set_ylim(0., 1.05)\n",
    "\n",
    "        ax2.plot(wavelength[ccd[it]],spec[ccd[it]]-best_fit_spec[ccd[it]], 'r', lw=0.5, label = 'Obs - Model')\n",
    "        ax2.set_ylim(-0.1, 0.1)"
   ]
  },
  {
   "cell_type": "code",
   "execution_count": null,
   "metadata": {},
   "outputs": [],
   "source": [
    "solar_twins = np.where(\n",
    "    (np.abs(all_labels[0] - 5777) < 100) &\n",
    "    (np.abs(all_labels[1] - 4.43) < 0.1) &\n",
    "    (np.abs(all_labels[2] - 0.00) < 0.1) &\n",
    "    (np.abs(all_labels[3] - 0.00) < 0.1)\n",
    "    )[0]"
   ]
  },
  {
   "cell_type": "code",
   "execution_count": null,
   "metadata": {},
   "outputs": [],
   "source": [
    "for each_index in solar_twins[:2]:\n",
    "    fit_and_plot(all_sobject_id[each_index])"
   ]
  },
  {
   "cell_type": "code",
   "execution_count": null,
   "metadata": {},
   "outputs": [],
   "source": [
    "bad_logg = np.where(\n",
    "    (np.abs(all_labels[1] - payne_labels[1]) > 1.5)\n",
    "    )[0]\n",
    "print(bad_logg)"
   ]
  },
  {
   "cell_type": "code",
   "execution_count": null,
   "metadata": {},
   "outputs": [],
   "source": [
    "for each_index in bad_logg[:2]:\n",
    "    fit_and_plot(all_sobject_id[each_index])"
   ]
  },
  {
   "cell_type": "code",
   "execution_count": null,
   "metadata": {},
   "outputs": [],
   "source": [
    "f, ((ax1, ax2), (ax3, ax4)) = plt.subplots(2,2,figsize=(15,10))\n",
    "\n",
    "kwargs = dict(s=2)\n",
    "\n",
    "ax1.scatter(all_labels[0],all_labels[1],c=all_labels[2],vmin=-2,vmax=0.5,**kwargs)\n",
    "ax2.scatter(payne_labels[0],payne_labels[1],c=payne_labels[2],vmin=-2,vmax=0.5,**kwargs)\n",
    "ax3.scatter(all_labels[2],all_labels[3],**kwargs)\n",
    "ax4.scatter(payne_labels[2],payne_labels[3],**kwargs)\n",
    "\n",
    "ax1.set_xlim(8000,3000)\n",
    "ax1.set_xlabel('Teff DR3')\n",
    "ax1.set_ylim(5,0)\n",
    "ax1.set_ylabel('logg DR3')\n",
    "ax2.set_xlim(8000,3000)\n",
    "ax2.set_xlabel('Teff Payne')\n",
    "ax2.set_ylim(5,0)\n",
    "ax2.set_ylabel('logg Payne')\n",
    "\n",
    "ax3.set_xlim(-2.5,0.5)\n",
    "ax3.set_ylim(-0.25,0.5)\n",
    "ax4.set_xlim(-2.5,0.5)\n",
    "ax4.set_ylim(-0.25,0.5)\n",
    "\n",
    "ax3.set_xlabel('[Fe/H] DR3')\n",
    "ax3.set_ylabel('[alpha/Fe] DR3')\n",
    "ax4.set_xlabel('[Fe/H] Payne')\n",
    "ax4.set_ylabel('[alpha/Fe] Payne')\n",
    "\n",
    "plt.tight_layout()"
   ]
  },
  {
   "cell_type": "code",
   "execution_count": null,
   "metadata": {},
   "outputs": [],
   "source": [
    "f, gs = plt.subplots(4,1,figsize=(15,10))\n",
    "label_names = ['Teff','logg','[Fe/H]','[alpha/Fe]']\n",
    "for each_index in range(4):\n",
    "    ax=gs[each_index]\n",
    "    ax.scatter(\n",
    "        all_labels[each_index], payne_labels[each_index]-all_labels[each_index],s=1\n",
    "        )\n",
    "    ax.set_xlabel(label_names[each_index])\n",
    "    ax.set_ylabel('Mod-Obs '+label_names[each_index])\n",
    "plt.tight_layout()"
   ]
  }
 ],
 "metadata": {
  "kernelspec": {
   "display_name": "Python 2",
   "language": "python",
   "name": "python2"
  },
  "language_info": {
   "codemirror_mode": {
    "name": "ipython",
    "version": 2
   },
   "file_extension": ".py",
   "mimetype": "text/x-python",
   "name": "python",
   "nbconvert_exporter": "python",
   "pygments_lexer": "ipython2",
   "version": "2.7.15"
  }
 },
 "nbformat": 4,
 "nbformat_minor": 2
}
